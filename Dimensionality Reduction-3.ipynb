{
 "cells": [
  {
   "cell_type": "markdown",
   "id": "43f5a89b-6817-4069-bda0-8f9342e89929",
   "metadata": {},
   "source": [
    "Q1. What are Eigenvalues and Eigenvectors? How are they related to the Eigen-Decomposition approach? \n",
    "Explain with an example."
   ]
  },
  {
   "cell_type": "markdown",
   "id": "934d4781-700e-4218-a497-d4c6115d2742",
   "metadata": {},
   "source": [
    "Eigenvalues and eigenvectors are concepts from linear algebra that play a fundamental role in various fields, including physics, computer graphics, machine learning, and more. They are closely related to the eigen-decomposition (also known as spectral decomposition) approach for diagonalizing square matrices.\n",
    "\n",
    "Eigenvalues: Eigenvalues are scalar values that represent how a linear transformation (or a square matrix) scales or stretches space along its principal axes. In simpler terms, they tell us how much the matrix scales or compresses space in specific directions. An eigenvalue is denoted by the symbol λ (lambda).\n",
    "\n",
    "Eigenvectors: Eigenvectors are non-zero vectors that are associated with eigenvalues. They represent the directions in which the linear transformation only stretches or compresses space without changing its orientation. In other words, an eigenvector remains in the same direction after the linear transformation. Eigenvectors are often denoted by the symbol v.\n",
    "\n",
    "The eigenvalue-eigenvector pair (λ, v) for a square matrix A satisfies the equation:\n",
    "\n",
    "Av = λv\n",
    "\n",
    "Where,\n",
    "A is the square matrix \n",
    "\n",
    "v is the eigenvector \n",
    "\n",
    "and λ is the eigenvalue."
   ]
  },
  {
   "cell_type": "markdown",
   "id": "f6313550-b26b-4ecd-a602-4c11aaa982d3",
   "metadata": {},
   "source": [
    "Example:\n",
    "Let's illustrate eigenvalues, eigenvectors, and eigen-decomposition with a simple 2x2 matrix A:"
   ]
  },
  {
   "cell_type": "code",
   "execution_count": 1,
   "id": "1247029d-ccd8-4207-9b94-74e9d0b56314",
   "metadata": {},
   "outputs": [
    {
     "name": "stdout",
     "output_type": "stream",
     "text": [
      "Original Matrix A:\n",
      "[[3 1]\n",
      " [0 2]]\n",
      "\n",
      "Eigenvalues:\n",
      "[3. 2.]\n",
      "\n",
      "Eigenvectors:\n",
      "[[ 1.         -0.70710678]\n",
      " [ 0.          0.70710678]]\n",
      "\n",
      "Reconstructed Matrix A:\n",
      "[[3. 1.]\n",
      " [0. 2.]]\n"
     ]
    }
   ],
   "source": [
    "import numpy as np\n",
    "\n",
    "# Example matrix A\n",
    "A = np.array([[3, 1],\n",
    "              [0, 2]])\n",
    "\n",
    "# Calculate eigenvalues and eigenvectors\n",
    "eigenvalues, eigenvectors = np.linalg.eig(A)\n",
    "\n",
    "# Eigenvalues are stored in eigenvalues\n",
    "lambda1, lambda2 = eigenvalues\n",
    "\n",
    "# Eigenvectors are stored in eigenvectors\n",
    "v1, v2 = eigenvectors[:, 0], eigenvectors[:, 1]\n",
    "\n",
    "# Verify the eigen-decomposition\n",
    "P = eigenvectors\n",
    "D = np.diag(eigenvalues)\n",
    "P_inv = np.linalg.inv(P)\n",
    "\n",
    "# Reconstruct A using eigen-decomposition\n",
    "reconstructed_A = P @ D @ P_inv\n",
    "\n",
    "print(\"Original Matrix A:\")\n",
    "print(A)\n",
    "print(\"\\nEigenvalues:\")\n",
    "print(eigenvalues)\n",
    "print(\"\\nEigenvectors:\")\n",
    "print(eigenvectors)\n",
    "print(\"\\nReconstructed Matrix A:\")\n",
    "print(reconstructed_A)"
   ]
  },
  {
   "cell_type": "raw",
   "id": "3ea6c985-9e75-441b-bfd1-86583236a7a4",
   "metadata": {},
   "source": [
    "Q2. What is eigen decomposition and what is its significance in linear algebra? "
   ]
  },
  {
   "cell_type": "markdown",
   "id": "21c680f8-1208-44ee-924f-6f8637bfb55a",
   "metadata": {},
   "source": [
    "Eigendecomposition provides us with a tool to decompose a matrix by discovering the eigenvalues and the eigenvectors. This operation can prove useful since it allows certain matrix operations to be easier to perform and it also tells us important facts about the matrix itself.\n",
    "\n",
    "The most important application Eigen-value Eigen-vector decomposition is the decorrelation of your data or matrix. In turn, it can be used in the reduction of the dimensionality of your data.\n",
    "\n",
    " Decomposition is not unique when two eigenvalues are the same. ◮ By convention, order entries of Λ in descending order. Then, eigendecomposition is unique if all eigenvalues are unique.\n",
    " \n",
    "Example:- The same methodology in math. An integer can be decomposed into prime factors, for example, 20 = 2 * 2 * 5, which means 20 is not divisible by 3, and any integer multiple of 20 will be divisible by 5."
   ]
  },
  {
   "cell_type": "markdown",
   "id": "9bc25bf7-848f-446e-bc00-8368f54cae7b",
   "metadata": {},
   "source": [
    "Q3. What are the conditions that must be satisfied for a square matrix to be diagonalizable using the \n",
    "Eigen-Decomposition approach? Provide a brief proof to support your answer."
   ]
  },
  {
   "cell_type": "markdown",
   "id": "2a10eb9a-2e43-49a6-8339-37cbe667fdd6",
   "metadata": {},
   "source": [
    "A square matrix A can be diagonalizable using the Eigen-Decomposition approach if and only if it meets the following conditions:\n",
    "\n",
    "A has n linearly independent eigenvectors: A matrix A can be diagonalized if and only if it has n linearly independent eigenvectors, where n is the size of the matrix (the number of rows or columns). In other words, you must be able to find n linearly independent eigenvectors for A.\n",
    "\n",
    "A is diagonalizable if and only if it is \"similar\" to a diagonal matrix: A matrix A is diagonalizable if and only if there exists an invertible matrix P (composed of its eigenvectors) such that P⁻¹AP is a diagonal matrix D.\n",
    "\n"
   ]
  },
  {
   "cell_type": "code",
   "execution_count": 7,
   "id": "b438e307-12f7-469d-a659-13378e44405b",
   "metadata": {},
   "outputs": [
    {
     "name": "stdout",
     "output_type": "stream",
     "text": [
      "Matrix A is diagonalizable.\n"
     ]
    }
   ],
   "source": [
    "import numpy as np\n",
    "\n",
    "A = np.array([[2, 1],\n",
    "              [0, 3]])\n",
    "\n",
    "eigenvalues, eigenvectors = np.linalg.eig(A)\n",
    "\n",
    "# Check if A is diagonalizable\n",
    "if np.all(np.iscomplex(eigenvalues)) or len(eigenvalues) != A.shape[0]:\n",
    "    print(\"Matrix A is not diagonalizable.\")\n",
    "else:\n",
    "    print(\"Matrix A is diagonalizable.\")"
   ]
  },
  {
   "cell_type": "code",
   "execution_count": 6,
   "id": "77d91349-1fb1-41b4-bcfe-b2cb258a5920",
   "metadata": {},
   "outputs": [
    {
     "name": "stdout",
     "output_type": "stream",
     "text": [
      "Eigenvalues:\n",
      "[2. 3.]\n",
      "\n",
      "Eigenvectors:\n",
      "[[1.         0.70710678]\n",
      " [0.         0.70710678]]\n",
      "\n",
      "Reconstructed Matrix A:\n",
      "[[2. 1.]\n",
      " [0. 3.]]\n"
     ]
    }
   ],
   "source": [
    "    P = eigenvectors\n",
    "    D = np.diag(eigenvalues)\n",
    "    P_inv = np.linalg.inv(P)\n",
    "    reconstructed_A = P @ D @ P_inv\n",
    "    print(\"Eigenvalues:\")\n",
    "    print(eigenvalues)\n",
    "    print(\"\\nEigenvectors:\")\n",
    "    print(eigenvectors)\n",
    "    print(\"\\nReconstructed Matrix A:\")\n",
    "    print(reconstructed_A)"
   ]
  },
  {
   "cell_type": "markdown",
   "id": "fc5c6bdf-ef9d-4646-85ab-9351d9835be8",
   "metadata": {},
   "source": [
    "Q4. What is the significance of the spectral theorem in the context of the Eigen-Decomposition approach? \n",
    "How is it related to the diagonalizability of a matrix? Explain with an example."
   ]
  },
  {
   "cell_type": "markdown",
   "id": "ad30e0f5-4c59-4373-9b6b-cd7476c4c0d0",
   "metadata": {},
   "source": [
    "The Spectral Theorem is a significant result in linear algebra, particularly in the context of the Eigen-Decomposition approach. It provides conditions under which a square matrix is diagonalizable, and it describes how to decompose a matrix into its eigenvalues and eigenvectors.\n",
    "\n",
    "The key significance of the Spectral Theorem in the context of the Eigen-Decomposition approach is as follows:\n",
    "\n",
    "1. Diagonalizability: The Spectral Theorem states that a square matrix A is diagonalizable if and only if it is a normal matrix. A normal matrix is a matrix that commutes with its adjoint (conjugate transpose). In other words, A is diagonalizable if and only if A satisfies the conditions of the Spectral Theorem.\n",
    "\n",
    "2. Decomposition into Eigenvalues and Eigenvectors: The Spectral Theorem not only establishes the diagonalizability of a matrix but also provides a systematic way to decompose it into its eigenvalues and eigenvectors. It states that if A is diagonalizable, it can be expressed as A = PDP⁻¹, where P is a matrix containing the eigenvectors of A, and D is a diagonal matrix containing the corresponding eigenvalues."
   ]
  },
  {
   "cell_type": "code",
   "execution_count": 9,
   "id": "2cab5122-d1f5-4015-821f-80188d7136c1",
   "metadata": {},
   "outputs": [
    {
     "name": "stdout",
     "output_type": "stream",
     "text": [
      "Eigenvalues:\n",
      "[3. 2.]\n",
      "\n",
      "Eigenvectors:\n",
      "[[ 1.         -0.70710678]\n",
      " [ 0.          0.70710678]]\n",
      "\n",
      "Reconstructed Matrix A:\n",
      "[[3. 1.]\n",
      " [0. 2.]]\n"
     ]
    }
   ],
   "source": [
    "import numpy as np\n",
    "\n",
    "A = np.array([[3, 1],\n",
    "              [0, 2]])\n",
    "\n",
    "eigenvalues, eigenvectors = np.linalg.eig(A)\n",
    "P = eigenvectors\n",
    "D = np.diag(eigenvalues)\n",
    "P_inv = np.linalg.inv(P)\n",
    "reconstructed_A = P @ D @ P_inv\n",
    "\n",
    "print(\"Eigenvalues:\")\n",
    "print(eigenvalues)\n",
    "print(\"\\nEigenvectors:\")\n",
    "print(eigenvectors)\n",
    "print(\"\\nReconstructed Matrix A:\")\n",
    "print(reconstructed_A)"
   ]
  },
  {
   "cell_type": "markdown",
   "id": "c7fa7245-f0fb-46b7-bf39-b3a4d1a41381",
   "metadata": {},
   "source": [
    "Q6. What are eigenvectors and how are they related to eigenvalues"
   ]
  },
  {
   "cell_type": "markdown",
   "id": "9a1f4cd9-856b-45fc-b511-6f39410c2acc",
   "metadata": {},
   "source": [
    "Eigenvectors are special vectors associated with square matrices that represent directions in space that remain unchanged (up to scaling) when the matrix is applied as a linear transformation. Eigenvectors are closely related to eigenvalues, and together they provide important information about the behavior of the matrix.\n",
    "\n",
    "Here's what eigenvectors are and how they are related to eigenvalues:\n",
    "\n",
    "Eigenvectors (v): Eigenvectors are non-zero vectors that, when multiplied by a square matrix A, result in a new vector that is a scaled version of the original eigenvector. Mathematically, if v is an eigenvector of A, then:\n",
    "\n",
    "A * v = λ * v\n",
    "\n",
    "Where:\n",
    "\n",
    "A is the square matrix.\n",
    "v is the eigenvector.\n",
    "λ (lambda) is the corresponding eigenvalue.\n",
    "\n",
    "\n",
    "Eigenvalues (λ): Eigenvalues are scalar values that represent how much the corresponding eigenvector is scaled (stretched or shrunk) when the matrix A is applied as a linear transformation. Each eigenvalue corresponds to a specific eigenvector.\n",
    "\n",
    "For the same eigenvector v, if λ is the eigenvalue, then:\n",
    "\n",
    "A * v = λ * v\n",
    "\n",
    "\n",
    "Here are some key points related to eigenvectors and eigenvalues:\n",
    "\n",
    "i. Eigenvectors are not unique; they can be scaled by any non-zero constant and still remain eigenvectors.\n",
    "\n",
    "ii. Eigenvectors corresponding to different eigenvalues are typically linearly independent, which is important for diagonalizability and the eigen-decomposition of a matrix.\n",
    "\n",
    "iii. If a matrix A is diagonalizable, its eigenvectors can be used to form the matrix P in the eigen-decomposition A = PDP⁻¹, where D is a diagonal matrix of eigenvalues.\n",
    "\n",
    "iv. Eigenvectors and eigenvalues are fundamental concepts used in various applications, including solving systems of linear differential equations, principal component analysis (PCA) in data analysis, and spectral analysis in quantum mechanics, among others.\n"
   ]
  },
  {
   "cell_type": "markdown",
   "id": "54d45d9c-3767-4f9d-bcdf-ab0ec2491bc8",
   "metadata": {},
   "source": [
    "Q7. Can you explain the geometric interpretation of eigenvectors and eigenvalues?"
   ]
  },
  {
   "cell_type": "markdown",
   "id": "fc9f71e4-0046-4c82-9799-0da7dc1fd09e",
   "metadata": {},
   "source": [
    "The geometric interpretation of eigenvectors and eigenvalues provides insight into how they relate to linear transformations and the effect of a matrix on vectors in space. Understanding this interpretation helps us grasp their significance in various applications.\n",
    "\n",
    "Eigenvectors:\n",
    "\n",
    "i. Invariance under Transformation: An eigenvector of a square matrix A represents a direction in space that remains unchanged in direction (up to scaling) when A is applied as a linear transformation. In other words, the direction of the eigenvector is preserved by the transformation.\n",
    "\n",
    "ii. Direction of Stretch/Shrink: When matrix A is applied to an eigenvector, the eigenvector is only scaled (stretched or shrunk) by a factor represented by the corresponding eigenvalue. The direction of the eigenvector remains the same.\n",
    "\n",
    "iv. Linear Independence: Eigenvectors corresponding to different eigenvalues are typically linearly independent, which means they represent different directions in space that are invariant under the transformation.\n",
    "\n",
    "Eigenvalues:\n",
    "\n",
    "i. Scaling Factor: Eigenvalues associated with eigenvectors quantify how much a matrix A scales (stretches or shrinks) space along the corresponding eigenvector's direction.\n",
    "\n",
    "ii. Magnitude of Transformation: If an eigenvalue is larger than 1, it indicates that the corresponding eigenvector's direction is stretched in magnitude. If it is between 0 and 1, it indicates a shrinking. A negative eigenvalue implies a reflection of space.\n",
    "\n",
    "Geometric Interpretation Example:"
   ]
  },
  {
   "cell_type": "code",
   "execution_count": 15,
   "id": "0cafcf7d-b17d-4be5-ab2d-fe4120d67ed2",
   "metadata": {},
   "outputs": [
    {
     "ename": "TypeError",
     "evalue": "Cannot cast array data from dtype('complex128') to dtype('float64') according to the rule 'safe'",
     "output_type": "error",
     "traceback": [
      "\u001b[0;31m---------------------------------------------------------------------------\u001b[0m",
      "\u001b[0;31mTypeError\u001b[0m                                 Traceback (most recent call last)",
      "File \u001b[0;32m/opt/conda/lib/python3.10/site-packages/IPython/core/formatters.py:338\u001b[0m, in \u001b[0;36mBaseFormatter.__call__\u001b[0;34m(self, obj)\u001b[0m\n\u001b[1;32m    336\u001b[0m     \u001b[38;5;28;01mpass\u001b[39;00m\n\u001b[1;32m    337\u001b[0m \u001b[38;5;28;01melse\u001b[39;00m:\n\u001b[0;32m--> 338\u001b[0m     \u001b[38;5;28;01mreturn\u001b[39;00m \u001b[43mprinter\u001b[49m\u001b[43m(\u001b[49m\u001b[43mobj\u001b[49m\u001b[43m)\u001b[49m\n\u001b[1;32m    339\u001b[0m \u001b[38;5;66;03m# Finally look for special method names\u001b[39;00m\n\u001b[1;32m    340\u001b[0m method \u001b[38;5;241m=\u001b[39m get_real_method(obj, \u001b[38;5;28mself\u001b[39m\u001b[38;5;241m.\u001b[39mprint_method)\n",
      "File \u001b[0;32m/opt/conda/lib/python3.10/site-packages/IPython/core/pylabtools.py:152\u001b[0m, in \u001b[0;36mprint_figure\u001b[0;34m(fig, fmt, bbox_inches, base64, **kwargs)\u001b[0m\n\u001b[1;32m    149\u001b[0m     \u001b[38;5;28;01mfrom\u001b[39;00m \u001b[38;5;21;01mmatplotlib\u001b[39;00m\u001b[38;5;21;01m.\u001b[39;00m\u001b[38;5;21;01mbackend_bases\u001b[39;00m \u001b[38;5;28;01mimport\u001b[39;00m FigureCanvasBase\n\u001b[1;32m    150\u001b[0m     FigureCanvasBase(fig)\n\u001b[0;32m--> 152\u001b[0m \u001b[43mfig\u001b[49m\u001b[38;5;241;43m.\u001b[39;49m\u001b[43mcanvas\u001b[49m\u001b[38;5;241;43m.\u001b[39;49m\u001b[43mprint_figure\u001b[49m\u001b[43m(\u001b[49m\u001b[43mbytes_io\u001b[49m\u001b[43m,\u001b[49m\u001b[43m \u001b[49m\u001b[38;5;241;43m*\u001b[39;49m\u001b[38;5;241;43m*\u001b[39;49m\u001b[43mkw\u001b[49m\u001b[43m)\u001b[49m\n\u001b[1;32m    153\u001b[0m data \u001b[38;5;241m=\u001b[39m bytes_io\u001b[38;5;241m.\u001b[39mgetvalue()\n\u001b[1;32m    154\u001b[0m \u001b[38;5;28;01mif\u001b[39;00m fmt \u001b[38;5;241m==\u001b[39m \u001b[38;5;124m'\u001b[39m\u001b[38;5;124msvg\u001b[39m\u001b[38;5;124m'\u001b[39m:\n",
      "File \u001b[0;32m/opt/conda/lib/python3.10/site-packages/matplotlib/backend_bases.py:2314\u001b[0m, in \u001b[0;36mFigureCanvasBase.print_figure\u001b[0;34m(self, filename, dpi, facecolor, edgecolor, orientation, format, bbox_inches, pad_inches, bbox_extra_artists, backend, **kwargs)\u001b[0m\n\u001b[1;32m   2308\u001b[0m     renderer \u001b[38;5;241m=\u001b[39m _get_renderer(\n\u001b[1;32m   2309\u001b[0m         \u001b[38;5;28mself\u001b[39m\u001b[38;5;241m.\u001b[39mfigure,\n\u001b[1;32m   2310\u001b[0m         functools\u001b[38;5;241m.\u001b[39mpartial(\n\u001b[1;32m   2311\u001b[0m             print_method, orientation\u001b[38;5;241m=\u001b[39morientation)\n\u001b[1;32m   2312\u001b[0m     )\n\u001b[1;32m   2313\u001b[0m     \u001b[38;5;28;01mwith\u001b[39;00m \u001b[38;5;28mgetattr\u001b[39m(renderer, \u001b[38;5;124m\"\u001b[39m\u001b[38;5;124m_draw_disabled\u001b[39m\u001b[38;5;124m\"\u001b[39m, nullcontext)():\n\u001b[0;32m-> 2314\u001b[0m         \u001b[38;5;28;43mself\u001b[39;49m\u001b[38;5;241;43m.\u001b[39;49m\u001b[43mfigure\u001b[49m\u001b[38;5;241;43m.\u001b[39;49m\u001b[43mdraw\u001b[49m\u001b[43m(\u001b[49m\u001b[43mrenderer\u001b[49m\u001b[43m)\u001b[49m\n\u001b[1;32m   2316\u001b[0m \u001b[38;5;28;01mif\u001b[39;00m bbox_inches:\n\u001b[1;32m   2317\u001b[0m     \u001b[38;5;28;01mif\u001b[39;00m bbox_inches \u001b[38;5;241m==\u001b[39m \u001b[38;5;124m\"\u001b[39m\u001b[38;5;124mtight\u001b[39m\u001b[38;5;124m\"\u001b[39m:\n",
      "File \u001b[0;32m/opt/conda/lib/python3.10/site-packages/matplotlib/artist.py:74\u001b[0m, in \u001b[0;36m_finalize_rasterization.<locals>.draw_wrapper\u001b[0;34m(artist, renderer, *args, **kwargs)\u001b[0m\n\u001b[1;32m     72\u001b[0m \u001b[38;5;129m@wraps\u001b[39m(draw)\n\u001b[1;32m     73\u001b[0m \u001b[38;5;28;01mdef\u001b[39;00m \u001b[38;5;21mdraw_wrapper\u001b[39m(artist, renderer, \u001b[38;5;241m*\u001b[39margs, \u001b[38;5;241m*\u001b[39m\u001b[38;5;241m*\u001b[39mkwargs):\n\u001b[0;32m---> 74\u001b[0m     result \u001b[38;5;241m=\u001b[39m \u001b[43mdraw\u001b[49m\u001b[43m(\u001b[49m\u001b[43martist\u001b[49m\u001b[43m,\u001b[49m\u001b[43m \u001b[49m\u001b[43mrenderer\u001b[49m\u001b[43m,\u001b[49m\u001b[43m \u001b[49m\u001b[38;5;241;43m*\u001b[39;49m\u001b[43margs\u001b[49m\u001b[43m,\u001b[49m\u001b[43m \u001b[49m\u001b[38;5;241;43m*\u001b[39;49m\u001b[38;5;241;43m*\u001b[39;49m\u001b[43mkwargs\u001b[49m\u001b[43m)\u001b[49m\n\u001b[1;32m     75\u001b[0m     \u001b[38;5;28;01mif\u001b[39;00m renderer\u001b[38;5;241m.\u001b[39m_rasterizing:\n\u001b[1;32m     76\u001b[0m         renderer\u001b[38;5;241m.\u001b[39mstop_rasterizing()\n",
      "File \u001b[0;32m/opt/conda/lib/python3.10/site-packages/matplotlib/artist.py:51\u001b[0m, in \u001b[0;36mallow_rasterization.<locals>.draw_wrapper\u001b[0;34m(artist, renderer)\u001b[0m\n\u001b[1;32m     48\u001b[0m     \u001b[38;5;28;01mif\u001b[39;00m artist\u001b[38;5;241m.\u001b[39mget_agg_filter() \u001b[38;5;129;01mis\u001b[39;00m \u001b[38;5;129;01mnot\u001b[39;00m \u001b[38;5;28;01mNone\u001b[39;00m:\n\u001b[1;32m     49\u001b[0m         renderer\u001b[38;5;241m.\u001b[39mstart_filter()\n\u001b[0;32m---> 51\u001b[0m     \u001b[38;5;28;01mreturn\u001b[39;00m \u001b[43mdraw\u001b[49m\u001b[43m(\u001b[49m\u001b[43martist\u001b[49m\u001b[43m,\u001b[49m\u001b[43m \u001b[49m\u001b[43mrenderer\u001b[49m\u001b[43m)\u001b[49m\n\u001b[1;32m     52\u001b[0m \u001b[38;5;28;01mfinally\u001b[39;00m:\n\u001b[1;32m     53\u001b[0m     \u001b[38;5;28;01mif\u001b[39;00m artist\u001b[38;5;241m.\u001b[39mget_agg_filter() \u001b[38;5;129;01mis\u001b[39;00m \u001b[38;5;129;01mnot\u001b[39;00m \u001b[38;5;28;01mNone\u001b[39;00m:\n",
      "File \u001b[0;32m/opt/conda/lib/python3.10/site-packages/matplotlib/figure.py:3071\u001b[0m, in \u001b[0;36mFigure.draw\u001b[0;34m(self, renderer)\u001b[0m\n\u001b[1;32m   3068\u001b[0m         \u001b[38;5;66;03m# ValueError can occur when resizing a window.\u001b[39;00m\n\u001b[1;32m   3070\u001b[0m \u001b[38;5;28mself\u001b[39m\u001b[38;5;241m.\u001b[39mpatch\u001b[38;5;241m.\u001b[39mdraw(renderer)\n\u001b[0;32m-> 3071\u001b[0m \u001b[43mmimage\u001b[49m\u001b[38;5;241;43m.\u001b[39;49m\u001b[43m_draw_list_compositing_images\u001b[49m\u001b[43m(\u001b[49m\n\u001b[1;32m   3072\u001b[0m \u001b[43m    \u001b[49m\u001b[43mrenderer\u001b[49m\u001b[43m,\u001b[49m\u001b[43m \u001b[49m\u001b[38;5;28;43mself\u001b[39;49m\u001b[43m,\u001b[49m\u001b[43m \u001b[49m\u001b[43martists\u001b[49m\u001b[43m,\u001b[49m\u001b[43m \u001b[49m\u001b[38;5;28;43mself\u001b[39;49m\u001b[38;5;241;43m.\u001b[39;49m\u001b[43msuppressComposite\u001b[49m\u001b[43m)\u001b[49m\n\u001b[1;32m   3074\u001b[0m \u001b[38;5;28;01mfor\u001b[39;00m sfig \u001b[38;5;129;01min\u001b[39;00m \u001b[38;5;28mself\u001b[39m\u001b[38;5;241m.\u001b[39msubfigs:\n\u001b[1;32m   3075\u001b[0m     sfig\u001b[38;5;241m.\u001b[39mdraw(renderer)\n",
      "File \u001b[0;32m/opt/conda/lib/python3.10/site-packages/matplotlib/image.py:131\u001b[0m, in \u001b[0;36m_draw_list_compositing_images\u001b[0;34m(renderer, parent, artists, suppress_composite)\u001b[0m\n\u001b[1;32m    129\u001b[0m \u001b[38;5;28;01mif\u001b[39;00m not_composite \u001b[38;5;129;01mor\u001b[39;00m \u001b[38;5;129;01mnot\u001b[39;00m has_images:\n\u001b[1;32m    130\u001b[0m     \u001b[38;5;28;01mfor\u001b[39;00m a \u001b[38;5;129;01min\u001b[39;00m artists:\n\u001b[0;32m--> 131\u001b[0m         \u001b[43ma\u001b[49m\u001b[38;5;241;43m.\u001b[39;49m\u001b[43mdraw\u001b[49m\u001b[43m(\u001b[49m\u001b[43mrenderer\u001b[49m\u001b[43m)\u001b[49m\n\u001b[1;32m    132\u001b[0m \u001b[38;5;28;01melse\u001b[39;00m:\n\u001b[1;32m    133\u001b[0m     \u001b[38;5;66;03m# Composite any adjacent images together\u001b[39;00m\n\u001b[1;32m    134\u001b[0m     image_group \u001b[38;5;241m=\u001b[39m []\n",
      "File \u001b[0;32m/opt/conda/lib/python3.10/site-packages/matplotlib/artist.py:51\u001b[0m, in \u001b[0;36mallow_rasterization.<locals>.draw_wrapper\u001b[0;34m(artist, renderer)\u001b[0m\n\u001b[1;32m     48\u001b[0m     \u001b[38;5;28;01mif\u001b[39;00m artist\u001b[38;5;241m.\u001b[39mget_agg_filter() \u001b[38;5;129;01mis\u001b[39;00m \u001b[38;5;129;01mnot\u001b[39;00m \u001b[38;5;28;01mNone\u001b[39;00m:\n\u001b[1;32m     49\u001b[0m         renderer\u001b[38;5;241m.\u001b[39mstart_filter()\n\u001b[0;32m---> 51\u001b[0m     \u001b[38;5;28;01mreturn\u001b[39;00m \u001b[43mdraw\u001b[49m\u001b[43m(\u001b[49m\u001b[43martist\u001b[49m\u001b[43m,\u001b[49m\u001b[43m \u001b[49m\u001b[43mrenderer\u001b[49m\u001b[43m)\u001b[49m\n\u001b[1;32m     52\u001b[0m \u001b[38;5;28;01mfinally\u001b[39;00m:\n\u001b[1;32m     53\u001b[0m     \u001b[38;5;28;01mif\u001b[39;00m artist\u001b[38;5;241m.\u001b[39mget_agg_filter() \u001b[38;5;129;01mis\u001b[39;00m \u001b[38;5;129;01mnot\u001b[39;00m \u001b[38;5;28;01mNone\u001b[39;00m:\n",
      "File \u001b[0;32m/opt/conda/lib/python3.10/site-packages/matplotlib/axes/_base.py:3107\u001b[0m, in \u001b[0;36m_AxesBase.draw\u001b[0;34m(self, renderer)\u001b[0m\n\u001b[1;32m   3104\u001b[0m         a\u001b[38;5;241m.\u001b[39mdraw(renderer)\n\u001b[1;32m   3105\u001b[0m     renderer\u001b[38;5;241m.\u001b[39mstop_rasterizing()\n\u001b[0;32m-> 3107\u001b[0m \u001b[43mmimage\u001b[49m\u001b[38;5;241;43m.\u001b[39;49m\u001b[43m_draw_list_compositing_images\u001b[49m\u001b[43m(\u001b[49m\n\u001b[1;32m   3108\u001b[0m \u001b[43m    \u001b[49m\u001b[43mrenderer\u001b[49m\u001b[43m,\u001b[49m\u001b[43m \u001b[49m\u001b[38;5;28;43mself\u001b[39;49m\u001b[43m,\u001b[49m\u001b[43m \u001b[49m\u001b[43martists\u001b[49m\u001b[43m,\u001b[49m\u001b[43m \u001b[49m\u001b[38;5;28;43mself\u001b[39;49m\u001b[38;5;241;43m.\u001b[39;49m\u001b[43mfigure\u001b[49m\u001b[38;5;241;43m.\u001b[39;49m\u001b[43msuppressComposite\u001b[49m\u001b[43m)\u001b[49m\n\u001b[1;32m   3110\u001b[0m renderer\u001b[38;5;241m.\u001b[39mclose_group(\u001b[38;5;124m'\u001b[39m\u001b[38;5;124maxes\u001b[39m\u001b[38;5;124m'\u001b[39m)\n\u001b[1;32m   3111\u001b[0m \u001b[38;5;28mself\u001b[39m\u001b[38;5;241m.\u001b[39mstale \u001b[38;5;241m=\u001b[39m \u001b[38;5;28;01mFalse\u001b[39;00m\n",
      "File \u001b[0;32m/opt/conda/lib/python3.10/site-packages/matplotlib/image.py:131\u001b[0m, in \u001b[0;36m_draw_list_compositing_images\u001b[0;34m(renderer, parent, artists, suppress_composite)\u001b[0m\n\u001b[1;32m    129\u001b[0m \u001b[38;5;28;01mif\u001b[39;00m not_composite \u001b[38;5;129;01mor\u001b[39;00m \u001b[38;5;129;01mnot\u001b[39;00m has_images:\n\u001b[1;32m    130\u001b[0m     \u001b[38;5;28;01mfor\u001b[39;00m a \u001b[38;5;129;01min\u001b[39;00m artists:\n\u001b[0;32m--> 131\u001b[0m         \u001b[43ma\u001b[49m\u001b[38;5;241;43m.\u001b[39;49m\u001b[43mdraw\u001b[49m\u001b[43m(\u001b[49m\u001b[43mrenderer\u001b[49m\u001b[43m)\u001b[49m\n\u001b[1;32m    132\u001b[0m \u001b[38;5;28;01melse\u001b[39;00m:\n\u001b[1;32m    133\u001b[0m     \u001b[38;5;66;03m# Composite any adjacent images together\u001b[39;00m\n\u001b[1;32m    134\u001b[0m     image_group \u001b[38;5;241m=\u001b[39m []\n",
      "File \u001b[0;32m/opt/conda/lib/python3.10/site-packages/matplotlib/artist.py:51\u001b[0m, in \u001b[0;36mallow_rasterization.<locals>.draw_wrapper\u001b[0;34m(artist, renderer)\u001b[0m\n\u001b[1;32m     48\u001b[0m     \u001b[38;5;28;01mif\u001b[39;00m artist\u001b[38;5;241m.\u001b[39mget_agg_filter() \u001b[38;5;129;01mis\u001b[39;00m \u001b[38;5;129;01mnot\u001b[39;00m \u001b[38;5;28;01mNone\u001b[39;00m:\n\u001b[1;32m     49\u001b[0m         renderer\u001b[38;5;241m.\u001b[39mstart_filter()\n\u001b[0;32m---> 51\u001b[0m     \u001b[38;5;28;01mreturn\u001b[39;00m \u001b[43mdraw\u001b[49m\u001b[43m(\u001b[49m\u001b[43martist\u001b[49m\u001b[43m,\u001b[49m\u001b[43m \u001b[49m\u001b[43mrenderer\u001b[49m\u001b[43m)\u001b[49m\n\u001b[1;32m     52\u001b[0m \u001b[38;5;28;01mfinally\u001b[39;00m:\n\u001b[1;32m     53\u001b[0m     \u001b[38;5;28;01mif\u001b[39;00m artist\u001b[38;5;241m.\u001b[39mget_agg_filter() \u001b[38;5;129;01mis\u001b[39;00m \u001b[38;5;129;01mnot\u001b[39;00m \u001b[38;5;28;01mNone\u001b[39;00m:\n",
      "File \u001b[0;32m/opt/conda/lib/python3.10/site-packages/matplotlib/quiver.py:553\u001b[0m, in \u001b[0;36mQuiver.draw\u001b[0;34m(self, renderer)\u001b[0m\n\u001b[1;32m    550\u001b[0m \u001b[38;5;129m@martist\u001b[39m\u001b[38;5;241m.\u001b[39mallow_rasterization\n\u001b[1;32m    551\u001b[0m \u001b[38;5;28;01mdef\u001b[39;00m \u001b[38;5;21mdraw\u001b[39m(\u001b[38;5;28mself\u001b[39m, renderer):\n\u001b[1;32m    552\u001b[0m     \u001b[38;5;28mself\u001b[39m\u001b[38;5;241m.\u001b[39m_init()\n\u001b[0;32m--> 553\u001b[0m     verts \u001b[38;5;241m=\u001b[39m \u001b[38;5;28;43mself\u001b[39;49m\u001b[38;5;241;43m.\u001b[39;49m\u001b[43m_make_verts\u001b[49m\u001b[43m(\u001b[49m\u001b[38;5;28;43mself\u001b[39;49m\u001b[38;5;241;43m.\u001b[39;49m\u001b[43mU\u001b[49m\u001b[43m,\u001b[49m\u001b[43m \u001b[49m\u001b[38;5;28;43mself\u001b[39;49m\u001b[38;5;241;43m.\u001b[39;49m\u001b[43mV\u001b[49m\u001b[43m,\u001b[49m\u001b[43m \u001b[49m\u001b[38;5;28;43mself\u001b[39;49m\u001b[38;5;241;43m.\u001b[39;49m\u001b[43mangles\u001b[49m\u001b[43m)\u001b[49m\n\u001b[1;32m    554\u001b[0m     \u001b[38;5;28mself\u001b[39m\u001b[38;5;241m.\u001b[39mset_verts(verts, closed\u001b[38;5;241m=\u001b[39m\u001b[38;5;28;01mFalse\u001b[39;00m)\n\u001b[1;32m    555\u001b[0m     \u001b[38;5;28msuper\u001b[39m()\u001b[38;5;241m.\u001b[39mdraw(renderer)\n",
      "File \u001b[0;32m/opt/conda/lib/python3.10/site-packages/matplotlib/quiver.py:626\u001b[0m, in \u001b[0;36mQuiver._make_verts\u001b[0;34m(self, U, V, angles)\u001b[0m\n\u001b[1;32m    621\u001b[0m str_angles \u001b[38;5;241m=\u001b[39m angles \u001b[38;5;28;01mif\u001b[39;00m \u001b[38;5;28misinstance\u001b[39m(angles, \u001b[38;5;28mstr\u001b[39m) \u001b[38;5;28;01melse\u001b[39;00m \u001b[38;5;124m'\u001b[39m\u001b[38;5;124m'\u001b[39m\n\u001b[1;32m    622\u001b[0m \u001b[38;5;28;01mif\u001b[39;00m str_angles \u001b[38;5;241m==\u001b[39m \u001b[38;5;124m'\u001b[39m\u001b[38;5;124mxy\u001b[39m\u001b[38;5;124m'\u001b[39m \u001b[38;5;129;01mand\u001b[39;00m \u001b[38;5;28mself\u001b[39m\u001b[38;5;241m.\u001b[39mscale_units \u001b[38;5;241m==\u001b[39m \u001b[38;5;124m'\u001b[39m\u001b[38;5;124mxy\u001b[39m\u001b[38;5;124m'\u001b[39m:\n\u001b[1;32m    623\u001b[0m     \u001b[38;5;66;03m# Here eps is 1 so that if we get U, V by diffing\u001b[39;00m\n\u001b[1;32m    624\u001b[0m     \u001b[38;5;66;03m# the X, Y arrays, the vectors will connect the\u001b[39;00m\n\u001b[1;32m    625\u001b[0m     \u001b[38;5;66;03m# points, regardless of the axis scaling (including log).\u001b[39;00m\n\u001b[0;32m--> 626\u001b[0m     angles, lengths \u001b[38;5;241m=\u001b[39m \u001b[38;5;28;43mself\u001b[39;49m\u001b[38;5;241;43m.\u001b[39;49m\u001b[43m_angles_lengths\u001b[49m\u001b[43m(\u001b[49m\u001b[43mU\u001b[49m\u001b[43m,\u001b[49m\u001b[43m \u001b[49m\u001b[43mV\u001b[49m\u001b[43m,\u001b[49m\u001b[43m \u001b[49m\u001b[43meps\u001b[49m\u001b[38;5;241;43m=\u001b[39;49m\u001b[38;5;241;43m1\u001b[39;49m\u001b[43m)\u001b[49m\n\u001b[1;32m    627\u001b[0m \u001b[38;5;28;01melif\u001b[39;00m str_angles \u001b[38;5;241m==\u001b[39m \u001b[38;5;124m'\u001b[39m\u001b[38;5;124mxy\u001b[39m\u001b[38;5;124m'\u001b[39m \u001b[38;5;129;01mor\u001b[39;00m \u001b[38;5;28mself\u001b[39m\u001b[38;5;241m.\u001b[39mscale_units \u001b[38;5;241m==\u001b[39m \u001b[38;5;124m'\u001b[39m\u001b[38;5;124mxy\u001b[39m\u001b[38;5;124m'\u001b[39m:\n\u001b[1;32m    628\u001b[0m     \u001b[38;5;66;03m# Calculate eps based on the extents of the plot\u001b[39;00m\n\u001b[1;32m    629\u001b[0m     \u001b[38;5;66;03m# so that we don't end up with roundoff error from\u001b[39;00m\n\u001b[1;32m    630\u001b[0m     \u001b[38;5;66;03m# adding a small number to a large.\u001b[39;00m\n\u001b[1;32m    631\u001b[0m     eps \u001b[38;5;241m=\u001b[39m np\u001b[38;5;241m.\u001b[39mabs(\u001b[38;5;28mself\u001b[39m\u001b[38;5;241m.\u001b[39maxes\u001b[38;5;241m.\u001b[39mdataLim\u001b[38;5;241m.\u001b[39mextents)\u001b[38;5;241m.\u001b[39mmax() \u001b[38;5;241m*\u001b[39m \u001b[38;5;241m0.001\u001b[39m\n",
      "File \u001b[0;32m/opt/conda/lib/python3.10/site-packages/matplotlib/quiver.py:613\u001b[0m, in \u001b[0;36mQuiver._angles_lengths\u001b[0;34m(self, U, V, eps)\u001b[0m\n\u001b[1;32m    611\u001b[0m xy \u001b[38;5;241m=\u001b[39m \u001b[38;5;28mself\u001b[39m\u001b[38;5;241m.\u001b[39maxes\u001b[38;5;241m.\u001b[39mtransData\u001b[38;5;241m.\u001b[39mtransform(\u001b[38;5;28mself\u001b[39m\u001b[38;5;241m.\u001b[39mXY)\n\u001b[1;32m    612\u001b[0m uv \u001b[38;5;241m=\u001b[39m np\u001b[38;5;241m.\u001b[39mcolumn_stack((U, V))\n\u001b[0;32m--> 613\u001b[0m xyp \u001b[38;5;241m=\u001b[39m \u001b[38;5;28;43mself\u001b[39;49m\u001b[38;5;241;43m.\u001b[39;49m\u001b[43maxes\u001b[49m\u001b[38;5;241;43m.\u001b[39;49m\u001b[43mtransData\u001b[49m\u001b[38;5;241;43m.\u001b[39;49m\u001b[43mtransform\u001b[49m\u001b[43m(\u001b[49m\u001b[38;5;28;43mself\u001b[39;49m\u001b[38;5;241;43m.\u001b[39;49m\u001b[43mXY\u001b[49m\u001b[43m \u001b[49m\u001b[38;5;241;43m+\u001b[39;49m\u001b[43m \u001b[49m\u001b[43meps\u001b[49m\u001b[43m \u001b[49m\u001b[38;5;241;43m*\u001b[39;49m\u001b[43m \u001b[49m\u001b[43muv\u001b[49m\u001b[43m)\u001b[49m\n\u001b[1;32m    614\u001b[0m dxy \u001b[38;5;241m=\u001b[39m xyp \u001b[38;5;241m-\u001b[39m xy\n\u001b[1;32m    615\u001b[0m angles \u001b[38;5;241m=\u001b[39m np\u001b[38;5;241m.\u001b[39marctan2(dxy[:, \u001b[38;5;241m1\u001b[39m], dxy[:, \u001b[38;5;241m0\u001b[39m])\n",
      "File \u001b[0;32m/opt/conda/lib/python3.10/site-packages/matplotlib/transforms.py:1490\u001b[0m, in \u001b[0;36mTransform.transform\u001b[0;34m(self, values)\u001b[0m\n\u001b[1;32m   1487\u001b[0m values \u001b[38;5;241m=\u001b[39m values\u001b[38;5;241m.\u001b[39mreshape((\u001b[38;5;241m-\u001b[39m\u001b[38;5;241m1\u001b[39m, \u001b[38;5;28mself\u001b[39m\u001b[38;5;241m.\u001b[39minput_dims))\n\u001b[1;32m   1489\u001b[0m \u001b[38;5;66;03m# Transform the values\u001b[39;00m\n\u001b[0;32m-> 1490\u001b[0m res \u001b[38;5;241m=\u001b[39m \u001b[38;5;28;43mself\u001b[39;49m\u001b[38;5;241;43m.\u001b[39;49m\u001b[43mtransform_affine\u001b[49m\u001b[43m(\u001b[49m\u001b[38;5;28;43mself\u001b[39;49m\u001b[38;5;241;43m.\u001b[39;49m\u001b[43mtransform_non_affine\u001b[49m\u001b[43m(\u001b[49m\u001b[43mvalues\u001b[49m\u001b[43m)\u001b[49m\u001b[43m)\u001b[49m\n\u001b[1;32m   1492\u001b[0m \u001b[38;5;66;03m# Convert the result back to the shape of the input values.\u001b[39;00m\n\u001b[1;32m   1493\u001b[0m \u001b[38;5;28;01mif\u001b[39;00m ndim \u001b[38;5;241m==\u001b[39m \u001b[38;5;241m0\u001b[39m:\n",
      "File \u001b[0;32m/opt/conda/lib/python3.10/site-packages/matplotlib/transforms.py:2420\u001b[0m, in \u001b[0;36mCompositeGenericTransform.transform_affine\u001b[0;34m(self, points)\u001b[0m\n\u001b[1;32m   2418\u001b[0m \u001b[38;5;28;01mdef\u001b[39;00m \u001b[38;5;21mtransform_affine\u001b[39m(\u001b[38;5;28mself\u001b[39m, points):\n\u001b[1;32m   2419\u001b[0m     \u001b[38;5;66;03m# docstring inherited\u001b[39;00m\n\u001b[0;32m-> 2420\u001b[0m     \u001b[38;5;28;01mreturn\u001b[39;00m \u001b[38;5;28;43mself\u001b[39;49m\u001b[38;5;241;43m.\u001b[39;49m\u001b[43mget_affine\u001b[49m\u001b[43m(\u001b[49m\u001b[43m)\u001b[49m\u001b[38;5;241;43m.\u001b[39;49m\u001b[43mtransform\u001b[49m\u001b[43m(\u001b[49m\u001b[43mpoints\u001b[49m\u001b[43m)\u001b[49m\n",
      "File \u001b[0;32m/opt/conda/lib/python3.10/site-packages/matplotlib/transforms.py:1784\u001b[0m, in \u001b[0;36mAffineBase.transform\u001b[0;34m(self, values)\u001b[0m\n\u001b[1;32m   1782\u001b[0m \u001b[38;5;28;01mdef\u001b[39;00m \u001b[38;5;21mtransform\u001b[39m(\u001b[38;5;28mself\u001b[39m, values):\n\u001b[1;32m   1783\u001b[0m     \u001b[38;5;66;03m# docstring inherited\u001b[39;00m\n\u001b[0;32m-> 1784\u001b[0m     \u001b[38;5;28;01mreturn\u001b[39;00m \u001b[38;5;28;43mself\u001b[39;49m\u001b[38;5;241;43m.\u001b[39;49m\u001b[43mtransform_affine\u001b[49m\u001b[43m(\u001b[49m\u001b[43mvalues\u001b[49m\u001b[43m)\u001b[49m\n",
      "File \u001b[0;32m/opt/conda/lib/python3.10/site-packages/matplotlib/transforms.py:1853\u001b[0m, in \u001b[0;36mAffine2DBase.transform_affine\u001b[0;34m(self, points)\u001b[0m\n\u001b[1;32m   1851\u001b[0m     tpoints \u001b[38;5;241m=\u001b[39m affine_transform(points\u001b[38;5;241m.\u001b[39mdata, mtx)\n\u001b[1;32m   1852\u001b[0m     \u001b[38;5;28;01mreturn\u001b[39;00m np\u001b[38;5;241m.\u001b[39mma\u001b[38;5;241m.\u001b[39mMaskedArray(tpoints, mask\u001b[38;5;241m=\u001b[39mnp\u001b[38;5;241m.\u001b[39mma\u001b[38;5;241m.\u001b[39mgetmask(points))\n\u001b[0;32m-> 1853\u001b[0m \u001b[38;5;28;01mreturn\u001b[39;00m \u001b[43maffine_transform\u001b[49m\u001b[43m(\u001b[49m\u001b[43mpoints\u001b[49m\u001b[43m,\u001b[49m\u001b[43m \u001b[49m\u001b[43mmtx\u001b[49m\u001b[43m)\u001b[49m\n",
      "\u001b[0;31mTypeError\u001b[0m: Cannot cast array data from dtype('complex128') to dtype('float64') according to the rule 'safe'"
     ]
    },
    {
     "data": {
      "text/plain": [
       "<Figure size 640x480 with 1 Axes>"
      ]
     },
     "metadata": {},
     "output_type": "display_data"
    },
    {
     "name": "stdout",
     "output_type": "stream",
     "text": [
      "Eigenvalues: [2.5+0.8660254j 2.5-0.8660254j]\n"
     ]
    }
   ],
   "source": [
    "\n",
    "import numpy as np\n",
    "import matplotlib.pyplot as plt\n",
    "\n",
    "A = np.array([[2, -1],\n",
    "              [1,  3]])\n",
    "eigenvalues, eigenvectors = np.linalg.eig(A)\n",
    "\n",
    "origin = np.zeros(2)\n",
    "plt.quiver(*origin, *eigenvectors[:, 0], angles='xy', scale_units='xy', scale=1, color='r', label='Eigenvector 1')\n",
    "plt.quiver(*origin, *eigenvectors[:, 1], angles='xy', scale_units='xy', scale=1, color='b', label='Eigenvector 2')\n",
    "\n",
    "plt.xlim(-4, 4)\n",
    "plt.ylim(-4, 4)\n",
    "\n",
    "plt.xlabel('X-axis')\n",
    "plt.ylabel('Y-axis')\n",
    "plt.legend()\n",
    "\n",
    "plt.grid()\n",
    "plt.title(\"Eigenvectors of Matrix A\")\n",
    "plt.show()\n",
    "\n",
    "print(\"Eigenvalues:\", eigenvalues)\n"
   ]
  },
  {
   "cell_type": "markdown",
   "id": "154b477e-52c2-486e-b960-5cac9956f5ae",
   "metadata": {},
   "source": [
    "Q8. What are some real-world applications of eigen decomposition?"
   ]
  },
  {
   "cell_type": "markdown",
   "id": "91902a7d-e820-431f-ba9f-77e3d4270505",
   "metadata": {},
   "source": [
    "Eigen-decomposition (also known as eigendecomposition) is a valuable technique in linear algebra with various real-world applications in fields such as physics, engineering, computer science, and data analysis. \n",
    "\n",
    "1. Principal Component Analysis (PCA): PCA is a dimensionality reduction technique that uses eigen-decomposition to find the principal components of a dataset. It is widely used in data analysis and feature engineering.\n",
    "\n",
    "2. Image Compression: Eigen-decomposition can be used in image compression techniques like Singular Value Decomposition (SVD), which is related to eigen-decomposition.\n",
    "\n",
    "3. Quantum Mechanics: Eigen-decomposition plays a fundamental role in quantum mechanics, where it is used to find the eigenstates and eigenvalues of quantum operators representing physical observables.\n",
    "\n",
    "4. Vibration Analysis: In mechanical engineering, eigen-decomposition is used to analyze vibrations in structures. The eigenvalues represent the natural frequencies of vibration modes, and eigenvectors represent the corresponding vibration patterns.\n",
    "\n",
    "5. Recommendation Systems: Eigen-decomposition is used in collaborative filtering-based recommendation systems, where it helps uncover latent factors in user-item interaction data.\n",
    "\n",
    "6. Google's PageRank Algorithm: Eigenvalues and eigenvectors are used in Google's PageRank algorithm to rank web pages based on their importance."
   ]
  },
  {
   "cell_type": "code",
   "execution_count": 22,
   "id": "ae6b8f0c-d89e-447c-912e-4464117a80d3",
   "metadata": {},
   "outputs": [
    {
     "data": {
      "image/png": "[encoded data removed]",
      "text/plain": [
       "<Figure size 640x480 with 1 Axes>"
      ]
     },
     "metadata": {},
     "output_type": "display_data"
    }
   ],
   "source": [
    "import numpy as np\n",
    "import matplotlib.pyplot as plt\n",
    "from sklearn.decomposition import PCA\n",
    "\n",
    "np.random.seed(0)\n",
    "data = np.random.rand(100, 2) \n",
    "\n",
    "pca = PCA(n_components=1)\n",
    "transformed_data = pca.fit_transform(data)\n",
    "\n",
    "# Visualize the transformed data\n",
    "plt.scatter(transformed_data, np.zeros_like(transformed_data), marker='o', label='PCA Projection')\n",
    "plt.xlabel('Principal Component')\n",
    "plt.legend()\n",
    "plt.title('PCA Dimensionality Reduction')\n",
    "plt.show()"
   ]
  },
  {
   "cell_type": "markdown",
   "id": "1c162869-53f2-4d6a-8fff-0f31be9642fc",
   "metadata": {},
   "source": [
    "Q9.Can a matrix have more than one set of eigenvectors and eigenvalues."
   ]
  },
  {
   "cell_type": "markdown",
   "id": "331f5dcf-c09c-483e-9dcf-2b602e20ec08",
   "metadata": {},
   "source": [
    "No, a square matrix cannot have more than one set of eigenvectors and eigenvalues associated with it. Each square matrix has a unique set of eigenvalues and eigenvectors.\n",
    "\n",
    "To be more precise:\n",
    "\n",
    "1. Eigenvalues: A matrix has a unique set of eigenvalues (λ1, λ2, ..., λn), where n is the size of the matrix (number of rows or columns). These eigenvalues are scalar values and are unique to the matrix.\n",
    "\n",
    "2. Eigenvectors: Corresponding to each eigenvalue, there is a unique eigenvector. So, for each eigenvalue λi, there is a unique eigenvector vi. These eigenvectors are also unique to the matrix and its eigenvalues.\n",
    "\n",
    "It's essential to note that while eigenvalues are unique, eigenvectors are unique up to scaling; that is, you can multiply an eigenvector by a nonzero constant, and it remains an eigenvector associated with the same eigenvalue."
   ]
  },
  {
   "cell_type": "markdown",
   "id": "b91c5374-2aa2-4636-a71a-5aede393b446",
   "metadata": {},
   "source": [
    "Q10. In what ways is the Eigen-Decomposition approach useful in data analysis and machine learning? \n",
    "Discuss at least three specific applications or techniques that rely on Eigen-Decomposition."
   ]
  },
  {
   "cell_type": "markdown",
   "id": "f398b6e1-60be-4ec3-8398-7ff4edf7ab3c",
   "metadata": {},
   "source": [
    "The Eigen-Decomposition approach is highly valuable in data analysis and machine learning for various applications. It provides insights into the underlying structure of data and helps reduce dimensionality while preserving essential information. Here are three specific applications and techniques that rely on Eigen-Decomposition:\n",
    "\n",
    "Principal Component Analysis (PCA):\n",
    "\n",
    "i. Application: PCA is one of the most common dimensionality reduction techniques used in data analysis and machine learning. It aims to find a new set of orthogonal axes (principal components) that capture the maximum variance in the data.\n",
    "\n",
    "ii. How it uses Eigen-Decomposition: PCA employs the Eigen-Decomposition approach to compute the eigenvalues and eigenvectors of the data's covariance matrix. These eigenvalues represent the variance explained by each principal component, and the eigenvectors correspond to the directions of maximum variance.\n",
    "\n",
    "iii. Benefits: PCA helps reduce the dimensionality of high-dimensional data while preserving as much information as possible. It is used in data preprocessing, visualization, and noise reduction.\n",
    "\n",
    "\n",
    "2. Spectral Clustering:\n",
    "\n",
    "i. Application: Spectral clustering is a graph-based clustering technique used in machine learning for image segmentation, community detection, and other clustering tasks.\n",
    "\n",
    "ii. How it uses Eigen-Decomposition: Spectral clustering relies on the eigenvalues and eigenvectors of a similarity or affinity matrix derived from the data. By performing Eigen-Decomposition on this matrix, it identifies the most significant eigenvectors (cluster assignments) that help group similar data points together.\n",
    "\n",
    "iii.Benefits: Spectral clustering can uncover non-linear patterns and clusters in data, making it a powerful tool for complex clustering problems."
   ]
  },
  {
   "cell_type": "code",
   "execution_count": null,
   "id": "ebd3003f-8778-49d9-8892-bbf7b19ae7aa",
   "metadata": {},
   "outputs": [],
   "source": []
  }
 ],
 "metadata": {
  "kernelspec": {
   "display_name": "Python 3 (ipykernel)",
   "language": "python",
   "name": "python3"
  },
  "language_info": {
   "codemirror_mode": {
    "name": "ipython",
    "version": 3
   },
   "file_extension": ".py",
   "mimetype": "text/x-python",
   "name": "python",
   "nbconvert_exporter": "python",
   "pygments_lexer": "ipython3",
   "version": "3.10.8"
  }
 },
 "nbformat": 4,
 "nbformat_minor": 5
}
